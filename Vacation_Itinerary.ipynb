{
 "cells": [
  {
   "cell_type": "markdown",
   "metadata": {},
   "source": [
    "# Import Dependencies"
   ]
  },
  {
   "cell_type": "code",
   "execution_count": 1,
   "metadata": {},
   "outputs": [],
   "source": [
    "# Import the dependencies.\n",
    "import pandas as pd\n",
    "import gmaps\n",
    "import requests\n",
    "import gmaps.datasets\n",
    "\n",
    "# Import the API key.\n",
    "from config import g_key"
   ]
  },
  {
   "cell_type": "code",
   "execution_count": 30,
   "metadata": {},
   "outputs": [],
   "source": [
    "# Configure gmaps to use your Google API key.\n",
    "gmaps.configure(api_key=g_key)"
   ]
  },
  {
   "cell_type": "markdown",
   "metadata": {},
   "source": [
    "# Import Vacation Data"
   ]
  },
  {
   "cell_type": "code",
   "execution_count": 31,
   "metadata": {},
   "outputs": [
    {
     "data": {
      "text/html": [
       "<div>\n",
       "<style scoped>\n",
       "    .dataframe tbody tr th:only-of-type {\n",
       "        vertical-align: middle;\n",
       "    }\n",
       "\n",
       "    .dataframe tbody tr th {\n",
       "        vertical-align: top;\n",
       "    }\n",
       "\n",
       "    .dataframe thead th {\n",
       "        text-align: right;\n",
       "    }\n",
       "</style>\n",
       "<table border=\"1\" class=\"dataframe\">\n",
       "  <thead>\n",
       "    <tr style=\"text-align: right;\">\n",
       "      <th></th>\n",
       "      <th>City_ID</th>\n",
       "      <th>City</th>\n",
       "      <th>Country</th>\n",
       "      <th>Max Temp</th>\n",
       "      <th>Current Description</th>\n",
       "      <th>Lat</th>\n",
       "      <th>Lng</th>\n",
       "      <th>Hotel Name</th>\n",
       "    </tr>\n",
       "  </thead>\n",
       "  <tbody>\n",
       "    <tr>\n",
       "      <th>0</th>\n",
       "      <td>1</td>\n",
       "      <td>Niquelandia</td>\n",
       "      <td>BR</td>\n",
       "      <td>83.41</td>\n",
       "      <td>scattered clouds</td>\n",
       "      <td>-14.47</td>\n",
       "      <td>-48.46</td>\n",
       "      <td>Hotel Suinã</td>\n",
       "    </tr>\n",
       "    <tr>\n",
       "      <th>1</th>\n",
       "      <td>5</td>\n",
       "      <td>Yabrud</td>\n",
       "      <td>SY</td>\n",
       "      <td>86.00</td>\n",
       "      <td>overcast clouds</td>\n",
       "      <td>33.97</td>\n",
       "      <td>36.66</td>\n",
       "      <td>صالون مها حيدر - Salon Maha</td>\n",
       "    </tr>\n",
       "    <tr>\n",
       "      <th>2</th>\n",
       "      <td>11</td>\n",
       "      <td>Hermanus</td>\n",
       "      <td>ZA</td>\n",
       "      <td>77.00</td>\n",
       "      <td>clear sky</td>\n",
       "      <td>-34.42</td>\n",
       "      <td>19.23</td>\n",
       "      <td>Misty Waves Boutique Hotel</td>\n",
       "    </tr>\n",
       "    <tr>\n",
       "      <th>3</th>\n",
       "      <td>16</td>\n",
       "      <td>Bengkulu</td>\n",
       "      <td>ID</td>\n",
       "      <td>77.40</td>\n",
       "      <td>overcast clouds</td>\n",
       "      <td>-3.80</td>\n",
       "      <td>102.27</td>\n",
       "      <td>Grage Hotel Bengkulu</td>\n",
       "    </tr>\n",
       "    <tr>\n",
       "      <th>4</th>\n",
       "      <td>21</td>\n",
       "      <td>Victoria</td>\n",
       "      <td>HK</td>\n",
       "      <td>82.00</td>\n",
       "      <td>clear sky</td>\n",
       "      <td>22.29</td>\n",
       "      <td>114.16</td>\n",
       "      <td>Mini Hotel Central</td>\n",
       "    </tr>\n",
       "    <tr>\n",
       "      <th>5</th>\n",
       "      <td>22</td>\n",
       "      <td>Guebwiller</td>\n",
       "      <td>FR</td>\n",
       "      <td>82.40</td>\n",
       "      <td>overcast clouds</td>\n",
       "      <td>47.92</td>\n",
       "      <td>7.20</td>\n",
       "      <td>Le Saint-Barnabé | Hôtel et Spa Haut-Rhin</td>\n",
       "    </tr>\n",
       "    <tr>\n",
       "      <th>6</th>\n",
       "      <td>38</td>\n",
       "      <td>Sao Filipe</td>\n",
       "      <td>CV</td>\n",
       "      <td>75.20</td>\n",
       "      <td>overcast clouds</td>\n",
       "      <td>14.90</td>\n",
       "      <td>-24.50</td>\n",
       "      <td>Tortuga B&amp;B</td>\n",
       "    </tr>\n",
       "    <tr>\n",
       "      <th>7</th>\n",
       "      <td>41</td>\n",
       "      <td>Chumphon</td>\n",
       "      <td>TH</td>\n",
       "      <td>78.15</td>\n",
       "      <td>overcast clouds</td>\n",
       "      <td>10.33</td>\n",
       "      <td>98.83</td>\n",
       "      <td>บ้านอิงน้ำ โฮมสเตย์</td>\n",
       "    </tr>\n",
       "    <tr>\n",
       "      <th>8</th>\n",
       "      <td>42</td>\n",
       "      <td>Arraial Do Cabo</td>\n",
       "      <td>BR</td>\n",
       "      <td>75.20</td>\n",
       "      <td>broken clouds</td>\n",
       "      <td>-22.97</td>\n",
       "      <td>-42.03</td>\n",
       "      <td>Pousada Porto Praia</td>\n",
       "    </tr>\n",
       "    <tr>\n",
       "      <th>9</th>\n",
       "      <td>45</td>\n",
       "      <td>Vilhena</td>\n",
       "      <td>BR</td>\n",
       "      <td>76.73</td>\n",
       "      <td>few clouds</td>\n",
       "      <td>-12.74</td>\n",
       "      <td>-60.15</td>\n",
       "      <td>Hotel Mirage</td>\n",
       "    </tr>\n",
       "  </tbody>\n",
       "</table>\n",
       "</div>"
      ],
      "text/plain": [
       "   City_ID             City Country  Max Temp Current Description    Lat  \\\n",
       "0        1      Niquelandia      BR     83.41    scattered clouds -14.47   \n",
       "1        5           Yabrud      SY     86.00     overcast clouds  33.97   \n",
       "2       11         Hermanus      ZA     77.00           clear sky -34.42   \n",
       "3       16         Bengkulu      ID     77.40     overcast clouds  -3.80   \n",
       "4       21         Victoria      HK     82.00           clear sky  22.29   \n",
       "5       22       Guebwiller      FR     82.40     overcast clouds  47.92   \n",
       "6       38       Sao Filipe      CV     75.20     overcast clouds  14.90   \n",
       "7       41         Chumphon      TH     78.15     overcast clouds  10.33   \n",
       "8       42  Arraial Do Cabo      BR     75.20       broken clouds -22.97   \n",
       "9       45          Vilhena      BR     76.73          few clouds -12.74   \n",
       "\n",
       "      Lng                                 Hotel Name  \n",
       "0  -48.46                                Hotel Suinã  \n",
       "1   36.66                صالون مها حيدر - Salon Maha  \n",
       "2   19.23                 Misty Waves Boutique Hotel  \n",
       "3  102.27                       Grage Hotel Bengkulu  \n",
       "4  114.16                         Mini Hotel Central  \n",
       "5    7.20  Le Saint-Barnabé | Hôtel et Spa Haut-Rhin  \n",
       "6  -24.50                                Tortuga B&B  \n",
       "7   98.83                        บ้านอิงน้ำ โฮมสเตย์  \n",
       "8  -42.03                        Pousada Porto Praia  \n",
       "9  -60.15                               Hotel Mirage  "
      ]
     },
     "execution_count": 31,
     "metadata": {},
     "output_type": "execute_result"
    }
   ],
   "source": [
    "# Store the CSV you saved created in part one into a DataFrame.\n",
    "city_data_df = pd.read_csv(\"weather_data/WeatherPy_vacation.csv\")\n",
    "city_data_df.head(10)"
   ]
  },
  {
   "cell_type": "code",
   "execution_count": 32,
   "metadata": {},
   "outputs": [],
   "source": [
    "# city_hotel = city_data_df.groupby(\"City\")[\"Hotel Name\"].value_counts()\n",
    "\n",
    "# city_hotel_df = pd.DataFrame(city_hotel)\n",
    "# city_hotel_df.head(10)"
   ]
  },
  {
   "cell_type": "markdown",
   "metadata": {},
   "source": [
    "# Filter four cities for itinerary"
   ]
  },
  {
   "cell_type": "code",
   "execution_count": 62,
   "metadata": {},
   "outputs": [
    {
     "data": {
      "text/html": [
       "<div>\n",
       "<style scoped>\n",
       "    .dataframe tbody tr th:only-of-type {\n",
       "        vertical-align: middle;\n",
       "    }\n",
       "\n",
       "    .dataframe tbody tr th {\n",
       "        vertical-align: top;\n",
       "    }\n",
       "\n",
       "    .dataframe thead th {\n",
       "        text-align: right;\n",
       "    }\n",
       "</style>\n",
       "<table border=\"1\" class=\"dataframe\">\n",
       "  <thead>\n",
       "    <tr style=\"text-align: right;\">\n",
       "      <th></th>\n",
       "      <th>City_ID</th>\n",
       "      <th>City</th>\n",
       "      <th>Country</th>\n",
       "      <th>Max Temp</th>\n",
       "      <th>Current Description</th>\n",
       "      <th>Lat</th>\n",
       "      <th>Lng</th>\n",
       "      <th>Hotel Name</th>\n",
       "    </tr>\n",
       "  </thead>\n",
       "  <tbody>\n",
       "    <tr>\n",
       "      <th>24</th>\n",
       "      <td>87</td>\n",
       "      <td>Dingle</td>\n",
       "      <td>PH</td>\n",
       "      <td>80.10</td>\n",
       "      <td>broken clouds</td>\n",
       "      <td>11.00</td>\n",
       "      <td>122.67</td>\n",
       "      <td>Camp Pasica</td>\n",
       "    </tr>\n",
       "    <tr>\n",
       "      <th>49</th>\n",
       "      <td>163</td>\n",
       "      <td>Looc</td>\n",
       "      <td>PH</td>\n",
       "      <td>82.56</td>\n",
       "      <td>scattered clouds</td>\n",
       "      <td>12.26</td>\n",
       "      <td>121.99</td>\n",
       "      <td>Cummings Highlands</td>\n",
       "    </tr>\n",
       "    <tr>\n",
       "      <th>91</th>\n",
       "      <td>263</td>\n",
       "      <td>San Pedro</td>\n",
       "      <td>PH</td>\n",
       "      <td>87.80</td>\n",
       "      <td>broken clouds</td>\n",
       "      <td>14.35</td>\n",
       "      <td>121.02</td>\n",
       "      <td>Palines Apartment and Guesthouse</td>\n",
       "    </tr>\n",
       "    <tr>\n",
       "      <th>128</th>\n",
       "      <td>405</td>\n",
       "      <td>Sulucan</td>\n",
       "      <td>PH</td>\n",
       "      <td>87.80</td>\n",
       "      <td>broken clouds</td>\n",
       "      <td>14.80</td>\n",
       "      <td>120.93</td>\n",
       "      <td>3Ds HOMEMADE SPECIALTIES</td>\n",
       "    </tr>\n",
       "  </tbody>\n",
       "</table>\n",
       "</div>"
      ],
      "text/plain": [
       "     City_ID       City Country  Max Temp Current Description    Lat     Lng  \\\n",
       "24        87     Dingle      PH     80.10       broken clouds  11.00  122.67   \n",
       "49       163       Looc      PH     82.56    scattered clouds  12.26  121.99   \n",
       "91       263  San Pedro      PH     87.80       broken clouds  14.35  121.02   \n",
       "128      405    Sulucan      PH     87.80       broken clouds  14.80  120.93   \n",
       "\n",
       "                           Hotel Name  \n",
       "24                        Camp Pasica  \n",
       "49                 Cummings Highlands  \n",
       "91   Palines Apartment and Guesthouse  \n",
       "128          3Ds HOMEMADE SPECIALTIES  "
      ]
     },
     "execution_count": 62,
     "metadata": {},
     "output_type": "execute_result"
    }
   ],
   "source": [
    "city_hotel_df = city_data_df.loc[(city_data_df[\"City\"] == 'San Pedro') |\\\n",
    "                                 (city_data_df[\"City\"] == 'Looc') |\\\n",
    "                                 (city_data_df[\"City\"] == 'Dingle') |\\\n",
    "                                 (city_data_df[\"City\"] == 'Sulucan')]\n",
    "city_hotel_df.head()"
   ]
  },
  {
   "cell_type": "code",
   "execution_count": 87,
   "metadata": {},
   "outputs": [],
   "source": [
    "city_hotel_df_SP = city_data_df.loc[(city_data_df[\"City\"] == 'San Pedro')]\n",
    "city_hotel_df_Looc = city_data_df.loc[(city_data_df[\"City\"] == 'Looc')]\n",
    "city_hotel_df_Dingle =city_data_df.loc[(city_data_df[\"City\"] == 'Dingle')]\n",
    "city_hotel_df_Sulucan =city_data_df.loc[(city_data_df[\"City\"] == 'Sulucan')]"
   ]
  },
  {
   "cell_type": "code",
   "execution_count": 112,
   "metadata": {},
   "outputs": [],
   "source": [
    "location_SP = (float(city_hotel_df_SP[\"Lat\"]), float(city_hotel_df_SP[\"Lng\"]))\n",
    "location_Looc = (city_hotel_df_Looc[\"Lat\"].values[0], city_hotel_df_Looc[\"Lng\"].values[0])\n",
    "location_Dingle = (city_hotel_df_Dingle[\"Lat\"].values[0], city_hotel_df_Dingle[\"Lng\"].values[0])\n",
    "location_Sulucan = (city_hotel_df_Sulucan[\"Lat\"].values[0], city_hotel_df_Sulucan[\"Lng\"].values[0])                                                               "
   ]
  },
  {
   "cell_type": "code",
   "execution_count": 144,
   "metadata": {},
   "outputs": [
    {
     "data": {
      "text/plain": [
       "(14.35, 121.02)"
      ]
     },
     "execution_count": 144,
     "metadata": {},
     "output_type": "execute_result"
    }
   ],
   "source": [
    "location_SP"
   ]
  },
  {
   "cell_type": "markdown",
   "metadata": {},
   "source": [
    "# Travel Itinerary Map"
   ]
  },
  {
   "cell_type": "code",
   "execution_count": 134,
   "metadata": {},
   "outputs": [],
   "source": [
    "info_box_template = \"\"\"\n",
    "<dl>\n",
    "<dt>Hotel Name</dt><dd>{Hotel Name}</dd>\n",
    "<dt>City</dt><dd>{City}</dd>\n",
    "<dt>Country</dt><dd>{Country}</dd>\n",
    "<dt>Current Weather</dt><dd>{Current Description} {Max Temp}  °F</dd>\n",
    "</dl>\n",
    "\"\"\""
   ]
  },
  {
   "cell_type": "code",
   "execution_count": 135,
   "metadata": {},
   "outputs": [],
   "source": [
    "# Store the DataFrame Row.\n",
    "hotel_info = [info_box_template.format(**row) for index, row in city_hotel_df.iterrows()]"
   ]
  },
  {
   "cell_type": "code",
   "execution_count": 143,
   "metadata": {},
   "outputs": [
    {
     "data": {
      "application/vnd.jupyter.widget-view+json": {
       "model_id": "c574914746694b2abc6ebeba211e6f00",
       "version_major": 2,
       "version_minor": 0
      },
      "text/plain": [
       "Figure(layout=FigureLayout(height='420px'))"
      ]
     },
     "metadata": {},
     "output_type": "display_data"
    }
   ],
   "source": [
    "# Add a itinerary for the vacation spots.\n",
    "locations = city_hotel_df[[\"Lat\", \"Lng\"]]\n",
    "\n",
    "fig = gmaps.figure(center=(30.0, 31.0), zoom_level=1.5)\n",
    "                        \n",
    "directions_layer = gmaps.directions_layer(location_SP, location_Sulucan, \n",
    "                                          waypoints=[location_Dingle,location_Looc],\n",
    "                                          travel_mode ='DRIVING',\n",
    "                                         show_markers = False)\n",
    "marker_layer = gmaps.marker_layer(locations, info_box_content=hotel_info)\n",
    "\n",
    "fig.add_layer(directions_layer)\n",
    "fig.add_layer(marker_layer)\n",
    "\n",
    "\n",
    "# Call the figure to plot the data.\n",
    "fig"
   ]
  },
  {
   "cell_type": "code",
   "execution_count": null,
   "metadata": {},
   "outputs": [],
   "source": []
  }
 ],
 "metadata": {
  "kernelspec": {
   "display_name": "PythonData",
   "language": "python",
   "name": "pythondata"
  },
  "language_info": {
   "codemirror_mode": {
    "name": "ipython",
    "version": 3
   },
   "file_extension": ".py",
   "mimetype": "text/x-python",
   "name": "python",
   "nbconvert_exporter": "python",
   "pygments_lexer": "ipython3",
   "version": "3.7.7"
  }
 },
 "nbformat": 4,
 "nbformat_minor": 4
}
